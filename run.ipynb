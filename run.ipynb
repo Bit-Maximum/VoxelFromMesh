{
 "cells": [
  {
   "metadata": {
    "ExecuteTime": {
     "end_time": "2025-07-13T03:14:51.330899Z",
     "start_time": "2025-07-13T03:14:49.995287Z"
    }
   },
   "cell_type": "code",
   "source": [
    "from utils import *\n",
    "from skimage import measure\n",
    "import os"
   ],
   "id": "fbc121e30a2defb3",
   "outputs": [
    {
     "name": "stdout",
     "output_type": "stream",
     "text": [
      "Jupyter environment detected. Enabling Open3D WebVisualizer.\n",
      "[Open3D INFO] WebRTC GUI backend enabled.\n",
      "[Open3D INFO] WebRTCWindowSystem: HTTP handshake server disabled.\n"
     ]
    }
   ],
   "execution_count": 1
  },
  {
   "metadata": {},
   "cell_type": "markdown",
   "source": "1. Считываем данные и приводим к единой системе координат",
   "id": "22b30d31d3e68a5b"
  },
  {
   "metadata": {
    "ExecuteTime": {
     "end_time": "2025-07-13T03:14:58.383184Z",
     "start_time": "2025-07-13T03:14:58.378908Z"
    }
   },
   "cell_type": "code",
   "source": [
    "# Размер воксельного пространства\n",
    "VOXEL_GRID_SIZE = 256"
   ],
   "id": "b7740878802d5690",
   "outputs": [],
   "execution_count": 2
  },
  {
   "metadata": {
    "ExecuteTime": {
     "end_time": "2025-07-13T03:15:00.204567Z",
     "start_time": "2025-07-13T03:15:00.199062Z"
    }
   },
   "cell_type": "code",
   "source": [
    "# Получим пути к исходным файлам\n",
    "files = [f for f in os.listdir(\"data\") if f.endswith('.x')]"
   ],
   "id": "a266c4f8f2efef5a",
   "outputs": [],
   "execution_count": 3
  },
  {
   "metadata": {
    "ExecuteTime": {
     "end_time": "2025-07-13T03:15:04.855910Z",
     "start_time": "2025-07-13T03:15:00.881472Z"
    }
   },
   "cell_type": "code",
   "source": [
    "meshes = []\n",
    "for f in files:\n",
    "    print(f)\n",
    "    filepath = os.path.abspath(f'data\\\\{f}')\n",
    "    data = parse_x_file(filepath)\n",
    "\n",
    "    # Переведём координаты точек из локальной системы координат в систему координат камеры\n",
    "    data['vertices'] = apply_transformation(data.get('vertices'), data.get('frame_matrix'))\n",
    "    \n",
    "    # Путь к текстуре\n",
    "    data['texture_path'] = os.path.abspath(f'data\\\\{f.rstrip(\".x\")}.bmp')\n",
    "    meshes.append(data)"
   ],
   "id": "89384dcaac4d0b77",
   "outputs": [
    {
     "name": "stdout",
     "output_type": "stream",
     "text": [
      "teapot_1.x\n",
      "num_vertices: 200310\n",
      "num_faces: 379304\n",
      "num_uvs: 200310\n",
      "teapot_2.x\n",
      "num_vertices: 190307\n",
      "num_faces: 358169\n",
      "num_uvs: 190307\n"
     ]
    }
   ],
   "execution_count": 4
  },
  {
   "metadata": {
    "ExecuteTime": {
     "end_time": "2025-07-13T03:15:16.983697Z",
     "start_time": "2025-07-13T03:15:04.858427Z"
    }
   },
   "cell_type": "code",
   "source": [
    "# Конфертируем все меши в PointCloud\n",
    "pcds_raw = [vertices_to_pcd(m.get('vertices')) for m in meshes]\n",
    "# Считаем нормали для PointCloud\n",
    "pcds_down = [get_normals_to_pcd(pcd) for pcd in pcds_raw]\n",
    "\n",
    "# Посмотрим как взаиморасположены меши\n",
    "o3d.visualization.draw_geometries(pcds_down)"
   ],
   "id": "c39ad2f7a3891d82",
   "outputs": [],
   "execution_count": 5
  },
  {
   "metadata": {},
   "cell_type": "markdown",
   "source": "2. Инициализируем воксельное пространство",
   "id": "87b87c0074e9c386"
  },
  {
   "metadata": {
    "ExecuteTime": {
     "end_time": "2025-07-13T03:15:16.997272Z",
     "start_time": "2025-07-13T03:15:16.985720Z"
    }
   },
   "cell_type": "code",
   "source": [
    "# Сбор всех вершин в единую структуру\n",
    "all_vertices = np.vstack([mesh[\"vertices\"] for mesh in meshes])"
   ],
   "id": "b64140581e4aaa6e",
   "outputs": [],
   "execution_count": 6
  },
  {
   "metadata": {
    "ExecuteTime": {
     "end_time": "2025-07-13T03:15:17.034874Z",
     "start_time": "2025-07-13T03:15:16.999337Z"
    }
   },
   "cell_type": "code",
   "source": [
    "# Границы сцены\n",
    "min_bound = np.min(all_vertices, axis=0)\n",
    "max_bound = np.max(all_vertices, axis=0)\n",
    "scene_size = max_bound - min_bound"
   ],
   "id": "c73e6952903dec2",
   "outputs": [],
   "execution_count": 7
  },
  {
   "metadata": {
    "ExecuteTime": {
     "end_time": "2025-07-13T03:15:17.041603Z",
     "start_time": "2025-07-13T03:15:17.036997Z"
    }
   },
   "cell_type": "code",
   "source": [
    "# Размер одного вокселя\n",
    "voxel_size = scene_size / VOXEL_GRID_SIZE"
   ],
   "id": "6a6e417eff059cdd",
   "outputs": [],
   "execution_count": 8
  },
  {
   "metadata": {
    "ExecuteTime": {
     "end_time": "2025-07-13T03:15:17.072522Z",
     "start_time": "2025-07-13T03:15:17.043612Z"
    }
   },
   "cell_type": "code",
   "source": [
    "# Инициализация скалярного поля и весов\n",
    "D = np.zeros((VOXEL_GRID_SIZE + 1, VOXEL_GRID_SIZE + 1, VOXEL_GRID_SIZE + 1), dtype=np.float32)\n",
    "W = np.zeros_like(D)"
   ],
   "id": "4aeacc84c659f2ba",
   "outputs": [],
   "execution_count": 9
  },
  {
   "metadata": {
    "ExecuteTime": {
     "end_time": "2025-07-13T03:15:17.078904Z",
     "start_time": "2025-07-13T03:15:17.074538Z"
    }
   },
   "cell_type": "code",
   "source": [
    "# Сохраняем параметры для дальнейших преобразований\n",
    "voxel_space = {\n",
    "    \"min_bound\": min_bound,\n",
    "    \"max_bound\": max_bound,\n",
    "    \"scene_size\": scene_size,\n",
    "    \"voxel_size\": voxel_size,\n",
    "    \"D\": D,\n",
    "    \"W\": W,\n",
    "    \"grid_size\": VOXEL_GRID_SIZE\n",
    "}"
   ],
   "id": "e50bf7cb1efc231a",
   "outputs": [],
   "execution_count": 10
  },
  {
   "metadata": {},
   "cell_type": "markdown",
   "source": "3. Объединяем меши воксельным методом",
   "id": "e3e109cf8502c2bf"
  },
  {
   "metadata": {
    "ExecuteTime": {
     "end_time": "2025-05-13T11:57:36.149446Z",
     "start_time": "2025-05-13T11:51:53.615612Z"
    }
   },
   "cell_type": "code",
   "source": [
    "# Вычислим интегральную функцию растояния и весовую функцию для каждого вокселя\n",
    "for mesh in meshes:\n",
    "    integrate_mesh_to_voxel_grid(mesh, voxel_space)"
   ],
   "id": "d4c7e3f53a262f4f",
   "outputs": [
    {
     "name": "stderr",
     "output_type": "stream",
     "text": [
      "Faces: 100%|██████████| 379k/379k [02:53<00:00, 2.18k triangles/s] \n",
      "Faces: 100%|██████████| 358k/358k [02:48<00:00, 2.12k triangles/s] \n"
     ]
    }
   ],
   "execution_count": 247
  },
  {
   "metadata": {
    "ExecuteTime": {
     "end_time": "2025-05-13T11:57:36.224673Z",
     "start_time": "2025-05-13T11:57:36.153054Z"
    }
   },
   "cell_type": "code",
   "source": "safe_D = np.copy(D)",
   "id": "ec7e7aea50cf73f3",
   "outputs": [],
   "execution_count": 248
  },
  {
   "metadata": {
    "ExecuteTime": {
     "end_time": "2025-05-13T11:57:36.299722Z",
     "start_time": "2025-05-13T11:57:36.226756Z"
    }
   },
   "cell_type": "code",
   "source": "safe_A = np.copy(safe_D)",
   "id": "476404d70ece8882",
   "outputs": [],
   "execution_count": 249
  },
  {
   "metadata": {
    "ExecuteTime": {
     "end_time": "2025-05-13T11:58:54.874171Z",
     "start_time": "2025-05-13T11:58:54.409377Z"
    }
   },
   "cell_type": "code",
   "source": [
    "# Marching cubes ищет поверхность, где D == 0\n",
    "verts, faces, normals, values = measure.marching_cubes(safe_D, level=0.0, spacing=(voxel_space[\"voxel_size\"]))"
   ],
   "id": "7efab054e3fb2438",
   "outputs": [],
   "execution_count": 256
  },
  {
   "metadata": {
    "ExecuteTime": {
     "end_time": "2025-05-13T11:58:55.537191Z",
     "start_time": "2025-05-13T11:58:54.877182Z"
    }
   },
   "cell_type": "code",
   "source": [
    "# Создадим меш на основе вершин и треугольников\n",
    "mesh = o3d.geometry.TriangleMesh()\n",
    "mesh.vertices = o3d.utility.Vector3dVector(verts)\n",
    "mesh.triangles = o3d.utility.Vector3iVector(faces)"
   ],
   "id": "55986642bb4bd2ee",
   "outputs": [],
   "execution_count": 257
  },
  {
   "metadata": {
    "ExecuteTime": {
     "end_time": "2025-05-13T11:58:55.815612Z",
     "start_time": "2025-05-13T11:58:55.540293Z"
    }
   },
   "cell_type": "code",
   "source": "mesh = mesh.filter_smooth_simple(number_of_iterations=3)",
   "id": "f879a6cd835104a4",
   "outputs": [],
   "execution_count": 258
  },
  {
   "metadata": {
    "ExecuteTime": {
     "end_time": "2025-05-13T11:58:55.861736Z",
     "start_time": "2025-05-13T11:58:55.818132Z"
    }
   },
   "cell_type": "code",
   "source": [
    "# Пересчитаем нормали\n",
    "mesh.compute_vertex_normals()\n",
    "mesh.compute_triangle_normals()\n",
    "mesh.normalize_normals()"
   ],
   "id": "f486a429fd27cf53",
   "outputs": [
    {
     "data": {
      "text/plain": [
       "TriangleMesh with 276201 points and 552476 triangles."
      ]
     },
     "execution_count": 259,
     "metadata": {},
     "output_type": "execute_result"
    }
   ],
   "execution_count": 259
  },
  {
   "metadata": {
    "ExecuteTime": {
     "end_time": "2025-05-13T12:02:20.729412Z",
     "start_time": "2025-05-13T12:02:09.829315Z"
    }
   },
   "cell_type": "code",
   "source": [
    "# Посмотрим на результат объединения\n",
    "o3d.visualization.draw_geometries([mesh], mesh_show_back_face=True)"
   ],
   "id": "ad222bcf4f1b26",
   "outputs": [],
   "execution_count": 262
  },
  {
   "metadata": {},
   "cell_type": "markdown",
   "source": "4. Сохраняем полученный меш",
   "id": "5b38597e234b9dfa"
  },
  {
   "metadata": {
    "ExecuteTime": {
     "end_time": "2025-05-13T12:02:09.827002Z",
     "start_time": "2025-05-13T12:02:06.150202Z"
    }
   },
   "cell_type": "code",
   "source": "write_mesh_to_x(mesh, 'output_mesh.x', save_normals=False, save_texture=False)",
   "id": "7d0db52aa67e2e35",
   "outputs": [
    {
     "name": "stderr",
     "output_type": "stream",
     "text": [
      "Vertices: 100%|██████████| 276k/276k [00:01<00:00, 143k points/s] \n",
      "Faces: 100%|██████████| 552k/552k [00:01<00:00, 320k triangles/s] \n"
     ]
    }
   ],
   "execution_count": 261
  },
  {
   "metadata": {},
   "cell_type": "code",
   "outputs": [],
   "execution_count": null,
   "source": "",
   "id": "49f517b1cd2bda17"
  }
 ],
 "metadata": {
  "kernelspec": {
   "display_name": "Python 3",
   "language": "python",
   "name": "python3"
  },
  "language_info": {
   "codemirror_mode": {
    "name": "ipython",
    "version": 2
   },
   "file_extension": ".py",
   "mimetype": "text/x-python",
   "name": "python",
   "nbconvert_exporter": "python",
   "pygments_lexer": "ipython2",
   "version": "2.7.6"
  }
 },
 "nbformat": 4,
 "nbformat_minor": 5
}
